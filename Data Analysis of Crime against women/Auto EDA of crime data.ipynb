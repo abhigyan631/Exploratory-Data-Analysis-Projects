{
 "cells": [
  {
   "cell_type": "markdown",
   "id": "b9372b00",
   "metadata": {},
   "source": [
    "#https://data.world/rajanand/crime-in-india/workspace/file?filename=42_District_wise_crimes_committed_against_women_2001_2012.csv\n",
    "\n",
    "#https://www.analyticsvidhya.com/blog/2021/04/top-python-libraries-to-automate-exploratory-data-analysis-in-2021/\n",
    "\n",
    "#https://builtin.com/data-science/EDA-python"
   ]
  },
  {
   "cell_type": "code",
   "execution_count": null,
   "id": "f636995d",
   "metadata": {},
   "outputs": [],
   "source": [
    "!pip3 install dtale"
   ]
  },
  {
   "cell_type": "markdown",
   "id": "c3a1bb89",
   "metadata": {},
   "source": [
    "# D-tale package"
   ]
  },
  {
   "cell_type": "code",
   "execution_count": null,
   "id": "deae914a",
   "metadata": {},
   "outputs": [],
   "source": [
    "import dtale\n",
    "import pandas as pd\n",
    "data=pd.read_csv('42_District_wise_crimes_committed_against_women_2001_2012.csv')\n",
    "d = dtale.show(data)\n",
    "d.open_browser()"
   ]
  },
  {
   "cell_type": "markdown",
   "id": "c4ef895c",
   "metadata": {},
   "source": [
    "dtale is a library that is used to visualize pandas dataframe easily\n",
    "and supports interactive plots, 3d plots, heat maps, the correlation between features, \n",
    "builds custom columns, and many more. It is the most famous and everyone’s favorite.\n",
    "\n",
    "It shows the data as pandas does, but it has has a menu in the top left corner \n",
    "that helps us to do a lot of operations like dataframe functions, summarize data, missing analysis,\n",
    "feature analysis, correlations, time series analysis and a lot of things. We can see the number of \n",
    "rows and columns and a button on the top left, by clicking that we can choose the operations we want \n",
    "to do. It can also show descriptive statistics, correlations, charts, etc. Basically, it can do anything we can think of. \n",
    "\n",
    "Brilliant !"
   ]
  },
  {
   "cell_type": "markdown",
   "id": "8711abe8",
   "metadata": {},
   "source": [
    "# Pandas Profiling"
   ]
  },
  {
   "cell_type": "code",
   "execution_count": null,
   "id": "248ca582",
   "metadata": {},
   "outputs": [],
   "source": [
    "!pip3 install pandas-profiling"
   ]
  },
  {
   "cell_type": "code",
   "execution_count": null,
   "id": "fb928d9e",
   "metadata": {},
   "outputs": [],
   "source": [
    "#importing required packages\n",
    "import pandas as pd\n",
    "import pandas_profiling\n",
    "import numpy as np\n",
    "\n",
    "#importing the data\n",
    "data = pd.read_csv('42_District_wise_crimes_committed_against_women_2001_2012.csv')\n",
    "\n",
    "#descriptive statistics\n",
    "pandas_profiling.ProfileReport(data)"
   ]
  },
  {
   "cell_type": "markdown",
   "id": "43fa8aff",
   "metadata": {},
   "source": [
    "Pandas profiling literally is a gem in terms of Automated Exploratory Data Analysis\n",
    "\n",
    "It provides the user with:\n",
    "    - Various insights (Alerts) (e.g. Dowry Deaths is highly correlated with Rape, \n",
    "    Cruelty by Husband or his Relatives is highly correlated with Rape,\n",
    "    Dowry Deaths has 2185 (24.2%) zeros, \n",
    "    Assault on women with intent to outrage her modesty has 571 (6.3%) zeros,\n",
    "    Cruelty by Husband or his Relatives has 1068 (11.8%) zeros, etc.)\n",
    "    \n",
    "    - Correlation coefficients (pearson, kendall, spearman, etc.)\n",
    "    - Missing value details\n",
    "    - First and last rows (like .head() and .tail() methods)"
   ]
  },
  {
   "cell_type": "markdown",
   "id": "076447bb",
   "metadata": {},
   "source": [
    "# Sweetviz"
   ]
  },
  {
   "cell_type": "code",
   "execution_count": null,
   "id": "c09c26f7",
   "metadata": {},
   "outputs": [],
   "source": [
    "!pip3 install sweetviz"
   ]
  },
  {
   "cell_type": "code",
   "execution_count": null,
   "id": "922b5116",
   "metadata": {},
   "outputs": [],
   "source": [
    "import sweetviz\n",
    "import pandas as pd\n",
    "data = pd.read_csv('42_District_wise_crimes_committed_against_women_2001_2012.csv')\n",
    "#my_report  = sweetviz.analyze(data)\n",
    "my_report  = sweetviz.analyze([data,'Train'], target_feat='Rape')\n",
    "my_report.show_html('FinalReport.html')"
   ]
  },
  {
   "cell_type": "markdown",
   "id": "d7321afd",
   "metadata": {},
   "source": [
    "# Autoviz"
   ]
  },
  {
   "cell_type": "markdown",
   "id": "5829b829",
   "metadata": {},
   "source": [
    "Automatically Visualize is used to automate creation of scatter plots, heatmaps, violin plots,\n",
    "bar plots, etc."
   ]
  },
  {
   "cell_type": "code",
   "execution_count": null,
   "id": "4354651b",
   "metadata": {},
   "outputs": [],
   "source": [
    "!pip3 install autoviz"
   ]
  },
  {
   "cell_type": "code",
   "execution_count": null,
   "id": "c31ae374",
   "metadata": {},
   "outputs": [],
   "source": [
    "from autoviz.AutoViz_Class import AutoViz_Class\n",
    "AV = AutoViz_Class()\n",
    "df = AV.AutoViz('42_District_wise_crimes_committed_against_women_2001_2012.csv', header=0, verbose=0,\n",
    "                lowess=False,chart_format='html',max_rows_analyzed=150000,\n",
    "                 max_cols_analyzed=30)"
   ]
  },
  {
   "cell_type": "code",
   "execution_count": null,
   "id": "4fb0415c",
   "metadata": {},
   "outputs": [],
   "source": [
    "print(df)"
   ]
  },
  {
   "cell_type": "code",
   "execution_count": null,
   "id": "1af32943",
   "metadata": {},
   "outputs": [],
   "source": []
  },
  {
   "cell_type": "code",
   "execution_count": null,
   "id": "b52defe8",
   "metadata": {},
   "outputs": [],
   "source": []
  },
  {
   "cell_type": "code",
   "execution_count": null,
   "id": "74e03525",
   "metadata": {},
   "outputs": [],
   "source": []
  },
  {
   "cell_type": "code",
   "execution_count": null,
   "id": "240d92a5",
   "metadata": {},
   "outputs": [],
   "source": []
  },
  {
   "cell_type": "code",
   "execution_count": null,
   "id": "8df7886a",
   "metadata": {},
   "outputs": [],
   "source": []
  },
  {
   "cell_type": "code",
   "execution_count": null,
   "id": "cca9aca9",
   "metadata": {},
   "outputs": [],
   "source": []
  },
  {
   "cell_type": "code",
   "execution_count": null,
   "id": "e9debcf0",
   "metadata": {},
   "outputs": [],
   "source": []
  },
  {
   "cell_type": "code",
   "execution_count": null,
   "id": "ad510a61",
   "metadata": {},
   "outputs": [],
   "source": []
  },
  {
   "cell_type": "code",
   "execution_count": null,
   "id": "b77cb962",
   "metadata": {},
   "outputs": [],
   "source": []
  },
  {
   "cell_type": "code",
   "execution_count": null,
   "id": "681eda7a",
   "metadata": {},
   "outputs": [],
   "source": []
  },
  {
   "cell_type": "code",
   "execution_count": null,
   "id": "ca224c47",
   "metadata": {},
   "outputs": [],
   "source": []
  },
  {
   "cell_type": "code",
   "execution_count": null,
   "id": "aedb1bc3",
   "metadata": {},
   "outputs": [],
   "source": []
  },
  {
   "cell_type": "code",
   "execution_count": null,
   "id": "245a3652",
   "metadata": {},
   "outputs": [],
   "source": []
  }
 ],
 "metadata": {
  "kernelspec": {
   "display_name": "Python 3 (ipykernel)",
   "language": "python",
   "name": "python3"
  },
  "language_info": {
   "codemirror_mode": {
    "name": "ipython",
    "version": 3
   },
   "file_extension": ".py",
   "mimetype": "text/x-python",
   "name": "python",
   "nbconvert_exporter": "python",
   "pygments_lexer": "ipython3",
   "version": "3.9.12"
  }
 },
 "nbformat": 4,
 "nbformat_minor": 5
}
